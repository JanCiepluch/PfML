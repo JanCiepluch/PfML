{
  "nbformat": 4,
  "nbformat_minor": 0,
  "metadata": {
    "colab": {
      "provenance": [],
      "authorship_tag": "ABX9TyP/dpsVH6DC+i5XWCdi8/e3",
      "include_colab_link": true
    },
    "kernelspec": {
      "name": "python3",
      "display_name": "Python 3"
    },
    "language_info": {
      "name": "python"
    }
  },
  "cells": [
    {
      "cell_type": "markdown",
      "metadata": {
        "id": "view-in-github",
        "colab_type": "text"
      },
      "source": [
        "<a href=\"https://colab.research.google.com/github/JanCiepluch/PfML/blob/for_variant/lab2task2.ipynb\" target=\"_parent\"><img src=\"https://colab.research.google.com/assets/colab-badge.svg\" alt=\"Open In Colab\"/></a>"
      ]
    },
    {
      "cell_type": "code",
      "execution_count": 1,
      "metadata": {
        "id": "_T5AH1jJwnPF"
      },
      "outputs": [],
      "source": [
        "recepit = [\"chicken\", \"soy sauce\", \"honey\", \"sesame\", \"broccoli\", \"rice\"]"
      ]
    },
    {
      "cell_type": "code",
      "source": [
        "for i in recepit:\n",
        "  print(i)"
      ],
      "metadata": {
        "colab": {
          "base_uri": "https://localhost:8080/"
        },
        "id": "NB5S5YA40fjI",
        "outputId": "4b1cbc59-c3e7-4378-de30-5e69390d3e1f"
      },
      "execution_count": 5,
      "outputs": [
        {
          "output_type": "stream",
          "name": "stdout",
          "text": [
            "chicken\n",
            "soy sauce\n",
            "honey\n",
            "sesame\n",
            "broccoli\n",
            "rice\n"
          ]
        }
      ]
    }
  ]
}