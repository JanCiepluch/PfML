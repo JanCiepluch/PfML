{
  "nbformat": 4,
  "nbformat_minor": 0,
  "metadata": {
    "colab": {
      "provenance": [],
      "authorship_tag": "ABX9TyNiQYbURKNjBA9yLVszR135",
      "include_colab_link": true
    },
    "kernelspec": {
      "name": "python3",
      "display_name": "Python 3"
    },
    "language_info": {
      "name": "python"
    }
  },
  "cells": [
    {
      "cell_type": "markdown",
      "metadata": {
        "id": "view-in-github",
        "colab_type": "text"
      },
      "source": [
        "<a href=\"https://colab.research.google.com/github/JanCiepluch/PfML/blob/while_variant/lab2task2.ipynb\" target=\"_parent\"><img src=\"https://colab.research.google.com/assets/colab-badge.svg\" alt=\"Open In Colab\"/></a>"
      ]
    },
    {
      "cell_type": "code",
      "execution_count": 1,
      "metadata": {
        "id": "_T5AH1jJwnPF"
      },
      "outputs": [],
      "source": [
        "recepit = [\"chicken\", \"soy sauce\", \"honey\", \"sesame\", \"broccoli\", \"rice\"]"
      ]
    },
    {
      "cell_type": "code",
      "source": [
        "i = 0\n",
        "while i < len(recepit):\n",
        "  print(recepit[i])\n",
        "  i = i + 1\n",
        "\n"
      ],
      "metadata": {
        "colab": {
          "base_uri": "https://localhost:8080/"
        },
        "id": "NB5S5YA40fjI",
        "outputId": "8ee8f661-24a5-48ab-dcd1-1416fe2598c2"
      },
      "execution_count": 36,
      "outputs": [
        {
          "output_type": "stream",
          "name": "stdout",
          "text": [
            "chicken\n",
            "soy sauce\n",
            "honey\n",
            "sesame\n",
            "broccoli\n",
            "rice\n"
          ]
        }
      ]
    }
  ]
}