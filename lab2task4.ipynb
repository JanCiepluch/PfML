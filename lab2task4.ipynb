{
  "nbformat": 4,
  "nbformat_minor": 0,
  "metadata": {
    "colab": {
      "provenance": [],
      "authorship_tag": "ABX9TyN2qCmh3htqyBzBL11DU0/W",
      "include_colab_link": true
    },
    "kernelspec": {
      "name": "python3",
      "display_name": "Python 3"
    },
    "language_info": {
      "name": "python"
    }
  },
  "cells": [
    {
      "cell_type": "markdown",
      "metadata": {
        "id": "view-in-github",
        "colab_type": "text"
      },
      "source": [
        "<a href=\"https://colab.research.google.com/github/JanCiepluch/PfML/blob/master/lab2task4.ipynb\" target=\"_parent\"><img src=\"https://colab.research.google.com/assets/colab-badge.svg\" alt=\"Open In Colab\"/></a>"
      ]
    },
    {
      "cell_type": "code",
      "execution_count": 2,
      "metadata": {
        "id": "W2VB3csj5kDm",
        "outputId": "aa730ee5-dc7f-4cb8-dcfa-a87b21397909",
        "colab": {
          "base_uri": "https://localhost:8080/"
        }
      },
      "outputs": [
        {
          "output_type": "stream",
          "name": "stdout",
          "text": [
            "Wohoooo!\n"
          ]
        }
      ],
      "source": [
        "def celebrate():\n",
        "  print(f\"Wohoooo!\")\n",
        "\n",
        "if True:\n",
        "  celebrate()"
      ]
    }
  ]
}